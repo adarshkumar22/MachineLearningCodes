{
 "cells": [
  {
   "cell_type": "code",
   "execution_count": 1,
   "id": "b7faaa41",
   "metadata": {
    "scrolled": true
   },
   "outputs": [],
   "source": [
    "import numpy as np  \n",
    "import pandas as pd  \n",
    "from mlxtend.frequent_patterns import apriori, association_rules"
   ]
  },
  {
   "cell_type": "code",
   "execution_count": null,
   "id": "25997a15",
   "metadata": {
    "scrolled": true
   },
   "outputs": [],
   "source": [
    "# Now, we will load the Data  \n",
    "data1 = pd.read_excel('Online Retail.xlsx')  \n",
    "data1.head()  "
   ]
  },
  {
   "cell_type": "code",
   "execution_count": 13,
   "id": "413c65cc",
   "metadata": {},
   "outputs": [
    {
     "data": {
      "text/plain": [
       "Index(['InvoiceNo', 'StockCode', 'Description', 'Quantity', 'InvoiceDate',\n",
       "       'UnitPrice', 'CustomerID', 'Country'],\n",
       "      dtype='object')"
      ]
     },
     "execution_count": 13,
     "metadata": {},
     "output_type": "execute_result"
    }
   ],
   "source": [
    "data1.columns  "
   ]
  },
  {
   "cell_type": "code",
   "execution_count": 14,
   "id": "f881ba8f",
   "metadata": {},
   "outputs": [
    {
     "data": {
      "text/plain": [
       "array(['United Kingdom', 'France', 'Australia', 'Netherlands', 'Germany',\n",
       "       'Norway', 'EIRE', 'Switzerland', 'Spain', 'Poland', 'Portugal',\n",
       "       'Italy', 'Belgium', 'Lithuania', 'Japan', 'Iceland',\n",
       "       'Channel Islands', 'Denmark', 'Cyprus', 'Sweden', 'Austria',\n",
       "       'Israel', 'Finland', 'Bahrain', 'Greece', 'Hong Kong', 'Singapore',\n",
       "       'Lebanon', 'United Arab Emirates', 'Saudi Arabia',\n",
       "       'Czech Republic', 'Canada', 'Unspecified', 'Brazil', 'USA',\n",
       "       'European Community', 'Malta', 'RSA'], dtype=object)"
      ]
     },
     "execution_count": 14,
     "metadata": {},
     "output_type": "execute_result"
    }
   ],
   "source": [
    "# Now, we will explore the different regions of transactions  \n",
    "data1.Country.unique()  "
   ]
  },
  {
   "cell_type": "code",
   "execution_count": 15,
   "id": "d21fef0c",
   "metadata": {},
   "outputs": [
    {
     "data": {
      "text/plain": [
       "array(['United Kingdom', 'France', 'Australia', 'Netherlands', 'Germany',\n",
       "       'Norway', 'EIRE', 'Switzerland', 'Spain', 'Poland', 'Portugal',\n",
       "       'Italy', 'Belgium', 'Lithuania', 'Japan', 'Iceland',\n",
       "       'Channel Islands', 'Denmark', 'Cyprus', 'Sweden', 'Austria',\n",
       "       'Israel', 'Finland', 'Bahrain', 'Greece', 'Hong Kong', 'Singapore',\n",
       "       'Lebanon', 'United Arab Emirates', 'Saudi Arabia',\n",
       "       'Czech Republic', 'Canada', 'Unspecified', 'Brazil', 'USA',\n",
       "       'European Community', 'Malta', 'RSA'], dtype=object)"
      ]
     },
     "execution_count": 15,
     "metadata": {},
     "output_type": "execute_result"
    }
   ],
   "source": [
    "# Now, we will explore the different regions of transactions  \n",
    "data1.Country.unique()  "
   ]
  },
  {
   "cell_type": "code",
   "execution_count": 16,
   "id": "17fa590a",
   "metadata": {},
   "outputs": [],
   "source": [
    "# here, we will strip the extra spaces in the description  \n",
    "data1['Description'] = data1['Description'].str.strip()  \n",
    "  \n",
    "# Now, drop the rows which does not have any invoice number  \n",
    "data1.dropna(axis = 0, subset = ['InvoiceNo'], inplace = True)  \n",
    "data1['InvoiceNo'] = data1['InvoiceNo'].astype('str')  \n",
    "  \n",
    "# Now, we will drop all transactions which were done on credit  \n",
    "data1 = data1[~data1['InvoiceNo'].str.contains('C')]  "
   ]
  },
  {
   "cell_type": "code",
   "execution_count": 17,
   "id": "efc5b27a",
   "metadata": {},
   "outputs": [],
   "source": [
    "# Transactions done in France  \n",
    "basket1_France = (data1[data1['Country'] == \"France\"]  \n",
    "        .groupby(['InvoiceNo', 'Description'])['Quantity']  \n",
    "        .sum().unstack().reset_index().fillna(0)  \n",
    "        .set_index('InvoiceNo'))  \n",
    "  \n",
    "# Transactions done in the United Kingdom  \n",
    "basket1_UK = (data1[data1['Country'] == \"United Kingdom\"]  \n",
    "        .groupby(['InvoiceNo', 'Description'])['Quantity']  \n",
    "        .sum().unstack().reset_index().fillna(0)  \n",
    "        .set_index('InvoiceNo'))  \n",
    "  \n",
    "# Transactions done in Portugal  \n",
    "basket1_Por = (data1[data1['Country'] == \"Portugal\"]  \n",
    "        .groupby(['InvoiceNo', 'Description'])['Quantity']  \n",
    "        .sum().unstack().reset_index().fillna(0)  \n",
    "        .set_index('InvoiceNo'))  \n",
    "  \n",
    "basket1_Sweden = (data1[data1['Country'] == \"Sweden\"]  \n",
    "        .groupby(['InvoiceNo', 'Description'])['Quantity']  \n",
    "        .sum().unstack().reset_index().fillna(0)  \n",
    "        .set_index('InvoiceNo')) "
   ]
  },
  {
   "cell_type": "code",
   "execution_count": 18,
   "id": "8510eabe",
   "metadata": {},
   "outputs": [],
   "source": [
    "# Here, we will define the hot encoding function   \n",
    "# for making the data suitable  \n",
    "# for the concerned libraries  \n",
    "def hot_encode1(P):  \n",
    "    if(P<= 0):  \n",
    "        return 0  \n",
    "    if(P>= 1):  \n",
    "        return 1  \n",
    "  \n",
    "# Here, we will encode the datasets  \n",
    "basket1_encoded = basket1_France.applymap(hot_encode1)  \n",
    "basket1_France = basket1_encoded  \n",
    "  \n",
    "basket1_encoded = basket1_UK.applymap(hot_encode1)  \n",
    "basket1_UK = basket1_encoded  \n",
    "  \n",
    "basket1_encoded = basket1_Por.applymap(hot_encode1)  \n",
    "basket1_Por = basket1_encoded  \n",
    "  \n",
    "basket1_encoded = basket1_Sweden.applymap(hot_encode1)  \n",
    "basket1_Sweden = basket1_encoded  "
   ]
  },
  {
   "cell_type": "code",
   "execution_count": 22,
   "id": "e816651b",
   "metadata": {},
   "outputs": [
    {
     "name": "stdout",
     "output_type": "stream",
     "text": [
      "                                           antecedents  \\\n",
      "45                        (JUMBO BAG WOODLAND ANIMALS)   \n",
      "260  (PLASTERS IN TIN CIRCUS PARADE, RED TOADSTOOL ...   \n",
      "272  (RED TOADSTOOL LED NIGHT LIGHT, PLASTERS IN TI...   \n",
      "302  (SET/6 RED SPOTTY PAPER CUPS, SET/20 RED RETRO...   \n",
      "301  (SET/6 RED SPOTTY PAPER PLATES, SET/20 RED RET...   \n",
      "\n",
      "                         consequents  antecedent support  consequent support  \\\n",
      "45                         (POSTAGE)            0.076531            0.765306   \n",
      "260                        (POSTAGE)            0.051020            0.765306   \n",
      "272                        (POSTAGE)            0.053571            0.765306   \n",
      "302  (SET/6 RED SPOTTY PAPER PLATES)            0.102041            0.127551   \n",
      "301    (SET/6 RED SPOTTY PAPER CUPS)            0.102041            0.137755   \n",
      "\n",
      "      support  confidence      lift  leverage  conviction  \n",
      "45   0.076531       1.000  1.306667  0.017961         inf  \n",
      "260  0.051020       1.000  1.306667  0.011974         inf  \n",
      "272  0.053571       1.000  1.306667  0.012573         inf  \n",
      "302  0.099490       0.975  7.644000  0.086474   34.897959  \n",
      "301  0.099490       0.975  7.077778  0.085433   34.489796  \n"
     ]
    },
    {
     "name": "stderr",
     "output_type": "stream",
     "text": [
      "c:\\cprogram filespython39\\lib\\site-packages\\mlxtend\\frequent_patterns\\fpcommon.py:111: DeprecationWarning: DataFrames with non-bool types result in worse computationalperformance and their support might be discontinued in the future.Please use a DataFrame with bool type\n",
      "  warnings.warn(\n"
     ]
    }
   ],
   "source": [
    "# Build the model  \n",
    "frq_items1 = apriori(basket1_France, min_support = 0.05, use_colnames = True)  \n",
    "  \n",
    "# Collect the inferred rules in a dataframe  \n",
    "rules1 = association_rules(frq_items1, metric = \"lift\", min_threshold = 1)  \n",
    "rules1 = rules1.sort_values(['confidence', 'lift'], ascending = [False, False])  \n",
    "print(rules1.head())  "
   ]
  },
  {
   "cell_type": "code",
   "execution_count": 29,
   "id": "dfac09b6",
   "metadata": {},
   "outputs": [
    {
     "name": "stderr",
     "output_type": "stream",
     "text": [
      "c:\\cprogram filespython39\\lib\\site-packages\\mlxtend\\frequent_patterns\\fpcommon.py:111: DeprecationWarning: DataFrames with non-bool types result in worse computationalperformance and their support might be discontinued in the future.Please use a DataFrame with bool type\n",
      "  warnings.warn(\n"
     ]
    },
    {
     "name": "stdout",
     "output_type": "stream",
     "text": [
      "Empty DataFrame\n",
      "Columns: [antecedents, consequents, antecedent support, consequent support, support, confidence, lift, leverage, conviction]\n",
      "Index: []\n"
     ]
    }
   ],
   "source": [
    "frq_items = apriori(basket1_UK, min_support = 0.05, use_colnames = True)  \n",
    "rules = association_rules(frq_items, metric =\"lift\", min_threshold = 1)  \n",
    "rules = rules.sort_values(['confidence', 'lift'], ascending =[False, False])  \n",
    "print(rules.head()) "
   ]
  },
  {
   "cell_type": "code",
   "execution_count": 34,
   "id": "8565d27d",
   "metadata": {},
   "outputs": [
    {
     "name": "stderr",
     "output_type": "stream",
     "text": [
      "c:\\cprogram filespython39\\lib\\site-packages\\mlxtend\\frequent_patterns\\fpcommon.py:111: DeprecationWarning: DataFrames with non-bool types result in worse computationalperformance and their support might be discontinued in the future.Please use a DataFrame with bool type\n",
      "  warnings.warn(\n"
     ]
    },
    {
     "name": "stdout",
     "output_type": "stream",
     "text": [
      "                              antecedents                         consequents  \\\n",
      "1170   (SET 12 COLOUR PENCILS DOLLY GIRL)    (SET 12 COLOUR PENCILS SPACEBOY)   \n",
      "1171     (SET 12 COLOUR PENCILS SPACEBOY)  (SET 12 COLOUR PENCILS DOLLY GIRL)   \n",
      "1172   (SET OF 4 KNICK KNACK TINS LONDON)  (SET 12 COLOUR PENCILS DOLLY GIRL)   \n",
      "1173   (SET 12 COLOUR PENCILS DOLLY GIRL)  (SET OF 4 KNICK KNACK TINS LONDON)   \n",
      "1174  (SET OF 4 KNICK KNACK TINS POPPIES)  (SET 12 COLOUR PENCILS DOLLY GIRL)   \n",
      "\n",
      "      antecedent support  consequent support   support  confidence       lift  \\\n",
      "1170            0.051724            0.051724  0.051724         1.0  19.333333   \n",
      "1171            0.051724            0.051724  0.051724         1.0  19.333333   \n",
      "1172            0.051724            0.051724  0.051724         1.0  19.333333   \n",
      "1173            0.051724            0.051724  0.051724         1.0  19.333333   \n",
      "1174            0.051724            0.051724  0.051724         1.0  19.333333   \n",
      "\n",
      "      leverage  conviction  \n",
      "1170  0.049049         inf  \n",
      "1171  0.049049         inf  \n",
      "1172  0.049049         inf  \n",
      "1173  0.049049         inf  \n",
      "1174  0.049049         inf  \n"
     ]
    }
   ],
   "source": [
    "frq_items1 = apriori(basket1_Por, min_support = 0.05, use_colnames = True)  \n",
    "rules1 = association_rules(frq_items1, metric =\"lift\", min_threshold = 1)  \n",
    "rules1 = rules1.sort_values(['confidence', 'lift'], ascending =[False, False])  \n",
    "print(rules1.head())  "
   ]
  },
  {
   "cell_type": "code",
   "execution_count": 33,
   "id": "89d83ee0",
   "metadata": {},
   "outputs": [
    {
     "name": "stderr",
     "output_type": "stream",
     "text": [
      "c:\\cprogram filespython39\\lib\\site-packages\\mlxtend\\frequent_patterns\\fpcommon.py:111: DeprecationWarning: DataFrames with non-bool types result in worse computationalperformance and their support might be discontinued in the future.Please use a DataFrame with bool type\n",
      "  warnings.warn(\n"
     ]
    },
    {
     "name": "stdout",
     "output_type": "stream",
     "text": [
      "                        antecedents                        consequents  \\\n",
      "0     (12 PENCILS SMALL TUBE SKULL)      (PACK OF 72 SKULL CAKE CASES)   \n",
      "1     (PACK OF 72 SKULL CAKE CASES)      (12 PENCILS SMALL TUBE SKULL)   \n",
      "4    (ASSORTED BOTTLE TOP  MAGNETS)            (36 DOILIES DOLLY GIRL)   \n",
      "5           (36 DOILIES DOLLY GIRL)     (ASSORTED BOTTLE TOP  MAGNETS)   \n",
      "180  (CHILDRENS CUTLERY DOLLY GIRL)  (CHILDRENS CUTLERY CIRCUS PARADE)   \n",
      "\n",
      "     antecedent support  consequent support   support  confidence  lift  \\\n",
      "0              0.055556            0.055556  0.055556         1.0  18.0   \n",
      "1              0.055556            0.055556  0.055556         1.0  18.0   \n",
      "4              0.055556            0.055556  0.055556         1.0  18.0   \n",
      "5              0.055556            0.055556  0.055556         1.0  18.0   \n",
      "180            0.055556            0.055556  0.055556         1.0  18.0   \n",
      "\n",
      "     leverage  conviction  \n",
      "0    0.052469         inf  \n",
      "1    0.052469         inf  \n",
      "4    0.052469         inf  \n",
      "5    0.052469         inf  \n",
      "180  0.052469         inf  \n"
     ]
    }
   ],
   "source": [
    "frq_items1 = apriori(basket1_Sweden, min_support = 0.05, use_colnames = True)  \n",
    "rules1 = association_rules(frq_items1, metric =\"lift\", min_threshold = 1)  \n",
    "rules1 = rules1.sort_values(['confidence', 'lift'], ascending =[False, False])  \n",
    "print(rules1.head())  "
   ]
  },
  {
   "cell_type": "code",
   "execution_count": null,
   "id": "f0eb4c6d",
   "metadata": {},
   "outputs": [],
   "source": []
  }
 ],
 "metadata": {
  "kernelspec": {
   "display_name": "Python 3 (ipykernel)",
   "language": "python",
   "name": "python3"
  },
  "language_info": {
   "codemirror_mode": {
    "name": "ipython",
    "version": 3
   },
   "file_extension": ".py",
   "mimetype": "text/x-python",
   "name": "python",
   "nbconvert_exporter": "python",
   "pygments_lexer": "ipython3",
   "version": "3.9.6"
  }
 },
 "nbformat": 4,
 "nbformat_minor": 5
}
